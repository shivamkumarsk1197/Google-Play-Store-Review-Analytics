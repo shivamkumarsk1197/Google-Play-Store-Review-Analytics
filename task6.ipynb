{
 "cells": [
  {
   "cell_type": "code",
   "execution_count": 1,
   "id": "c3563586-9e92-4ab4-9cea-4452761a71ed",
   "metadata": {},
   "outputs": [],
   "source": [
    "import pandas as pd\n",
    "import plotly.express as px\n",
    "import pytz\n",
    "from datetime import datetime, time\n"
   ]
  },
  {
   "cell_type": "code",
   "execution_count": 2,
   "id": "ed7e7cf8-5e85-4d14-bbae-60783fc1e9df",
   "metadata": {},
   "outputs": [],
   "source": [
    "df = pd.read_csv(\"googleplaystore.csv\")\n"
   ]
  },
  {
   "cell_type": "code",
   "execution_count": 3,
   "id": "c28319ac-f5ca-4a6f-aac2-fe66b297e566",
   "metadata": {},
   "outputs": [],
   "source": [
    "df['Reviews'] = pd.to_numeric(df['Reviews'], errors='coerce')"
   ]
  },
  {
   "cell_type": "code",
   "execution_count": 4,
   "id": "9b53d3f6-6012-4e40-8b09-ade5d550a9fd",
   "metadata": {},
   "outputs": [],
   "source": [
    "df['Installs'] = (\n",
    "    df['Installs'].astype(str)\n",
    "    .str.replace(r'\\D', '', regex=True)\n",
    "    .replace('', '0')\n",
    "    .astype(float)\n",
    ")\n"
   ]
  },
  {
   "cell_type": "code",
   "execution_count": 5,
   "id": "1205a750-01b6-4329-a9f5-ec65f9f517cb",
   "metadata": {},
   "outputs": [],
   "source": [
    "df['Size_MB'] = (\n",
    "    df['Size']\n",
    "    .replace('Varies with device', None)\n",
    "    .str.replace('M', '', regex=False)\n",
    "    .str.replace('k', '', regex=False)\n",
    ")\n",
    "\n",
    "df['Size_MB'] = pd.to_numeric(df['Size_MB'], errors='coerce')"
   ]
  },
  {
   "cell_type": "code",
   "execution_count": 6,
   "id": "50af2dda-7d83-49d4-9672-364db1022586",
   "metadata": {},
   "outputs": [],
   "source": [
    "df['Last Updated'] = pd.to_datetime(df['Last Updated'], errors='coerce')\n",
    "df['Month'] = df['Last Updated'].dt.to_period(\"M\").dt.to_timestamp()\n"
   ]
  },
  {
   "cell_type": "code",
   "execution_count": 7,
   "id": "bb726091-e5c4-4798-9472-f664b8d3f2b2",
   "metadata": {},
   "outputs": [],
   "source": [
    "filtered = df[\n",
    "    (df['Rating'] >= 4.2) &\n",
    "    (~df['App'].str.contains(r'\\d', na=False)) &\n",
    "    (df['Category'].str.startswith(('T', 'P'))) &\n",
    "    (df['Reviews'] > 1000) &\n",
    "    (df['Size_MB'].between(20, 80))\n",
    "].copy()\n"
   ]
  },
  {
   "cell_type": "code",
   "execution_count": 8,
   "id": "e9943d28-39e4-405f-afcd-ddb400ab0678",
   "metadata": {},
   "outputs": [],
   "source": [
    "translations = {\n",
    "    \"Travel & Local\": \"Voyage et local\",   # French\n",
    "    \"Productivity\": \"Productividad\",       # Spanish\n",
    "    \"Photography\": \"写真\"                  # Japanese\n",
    "}\n",
    "filtered['Category'] = filtered['Category'].replace(translations)\n"
   ]
  },
  {
   "cell_type": "code",
   "execution_count": 9,
   "id": "f781daa8-974f-4c87-b6d8-678a096b8822",
   "metadata": {},
   "outputs": [],
   "source": [
    "monthly_installs = (\n",
    "    filtered.groupby(['Month', 'Category'])['Installs']\n",
    "    .sum()\n",
    "    .reset_index()\n",
    ")"
   ]
  },
  {
   "cell_type": "code",
   "execution_count": 10,
   "id": "7b37fdba-abaa-45ac-9c94-9ace80b09a12",
   "metadata": {},
   "outputs": [],
   "source": [
    "monthly_installs['Prev'] = monthly_installs.groupby('Category')['Installs'].shift(1)\n",
    "monthly_installs['Growth'] = (\n",
    "    (monthly_installs['Installs'] - monthly_installs['Prev']) / monthly_installs['Prev']\n",
    ") * 100\n",
    "monthly_installs['Highlight'] = monthly_installs['Growth'] > 25\n"
   ]
  },
  {
   "cell_type": "code",
   "execution_count": 11,
   "id": "7c6166cb-957f-4f9c-807d-e48c91ecf52d",
   "metadata": {},
   "outputs": [],
   "source": [
    "ist = pytz.timezone(\"Asia/Kolkata\")\n",
    "current_time = datetime.now(ist).time()\n",
    "start_time = time(16, 0)  # 4 PM\n",
    "end_time = time(18, 0)    # 6 PM"
   ]
  },
  {
   "cell_type": "code",
   "execution_count": 12,
   "id": "f4d48834-45a4-408a-89ab-81e82063032f",
   "metadata": {},
   "outputs": [
    {
     "name": "stdout",
     "output_type": "stream",
     "text": [
      "This chart is only visible between 4 PM and 6 PM IST.\n"
     ]
    }
   ],
   "source": [
    "if start_time <= current_time <= end_time:\n",
    "    # Create stacked area chart\n",
    "    fig = px.area(\n",
    "        monthly_installs,\n",
    "        x=\"Month\",\n",
    "        y=\"Installs\",\n",
    "        color=\"Category\",\n",
    "        title=\"Cumulative Installs Over Time by Category (Stacked Area)\",\n",
    "    )\n",
    "\n",
    "    # Highlight growth >25% with markers\n",
    "    highlight_points = monthly_installs[monthly_installs['Highlight']]\n",
    "    if not highlight_points.empty:\n",
    "        fig.add_scatter(\n",
    "            x=highlight_points['Month'],\n",
    "            y=highlight_points['Installs'],\n",
    "            mode='markers',\n",
    "            marker=dict(size=10, color='red', opacity=0.8, symbol=\"star\"),\n",
    "            name=\">25% Growth\"\n",
    "        )\n",
    "\n",
    "    fig.show()\n",
    "    \n",
    "else:\n",
    "    print(\"This chart is only visible between 4 PM and 6 PM IST.\")\n"
   ]
  }
 ],
 "metadata": {
  "kernelspec": {
   "display_name": "Python 3 (ipykernel)",
   "language": "python",
   "name": "python3"
  },
  "language_info": {
   "codemirror_mode": {
    "name": "ipython",
    "version": 3
   },
   "file_extension": ".py",
   "mimetype": "text/x-python",
   "name": "python",
   "nbconvert_exporter": "python",
   "pygments_lexer": "ipython3",
   "version": "3.13.6"
  }
 },
 "nbformat": 4,
 "nbformat_minor": 5
}
