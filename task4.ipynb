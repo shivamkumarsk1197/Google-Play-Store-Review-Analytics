{
 "cells": [
  {
   "cell_type": "code",
   "execution_count": 1,
   "id": "0003a5bc-5735-49e1-b967-ee11e0a9016c",
   "metadata": {},
   "outputs": [],
   "source": [
    "import pandas as pd\n",
    "import plotly.express as px\n",
    "from datetime import datetime\n",
    "import pytz\n"
   ]
  },
  {
   "cell_type": "code",
   "execution_count": 2,
   "id": "b1658264-149d-4f8e-8367-09205f92989a",
   "metadata": {},
   "outputs": [],
   "source": [
    "df = pd.read_csv('googleplaystore.csv')"
   ]
  },
  {
   "cell_type": "code",
   "execution_count": 3,
   "id": "919be816-8ec6-408b-8a36-e2745e5caf72",
   "metadata": {},
   "outputs": [],
   "source": [
    "ist = pytz.timezone('Asia/Kolkata')\n",
    "current_time = datetime.now(ist).time()\n",
    "start_time = datetime.strptime('18:00:00', '%H:%M:%S').time()\n",
    "end_time   = datetime.strptime('21:00:00', '%H:%M:%S').time()"
   ]
  },
  {
   "cell_type": "code",
   "execution_count": 4,
   "id": "65214313-8db5-4ea3-ad0f-9098bc0f5461",
   "metadata": {},
   "outputs": [],
   "source": [
    "data = df.copy()\n",
    "data['Reviews'] = pd.to_numeric(data['Reviews'], errors='coerce')\n",
    "data = data[\n",
    "    (data['Reviews'] > 500) &\n",
    "    (data['App'].str.startswith(('x','y','z','X','Y','Z'))) &\n",
    "    (data['App'].str.contains('S', case=False)) &\n",
    "    (data['Category'].str.startswith(('E','C','B')))\n",
    "]"
   ]
  },
  {
   "cell_type": "code",
   "execution_count": 5,
   "id": "0cc1bc4f-68db-42b8-9d14-929231661d00",
   "metadata": {},
   "outputs": [],
   "source": [
    "translations = {\n",
    "    'Beauty': 'सौंदर्य',      # Hindi\n",
    "    'Business': 'வணிகம்',    # Tamil\n",
    "    'Dating': 'Partnersuche' # German\n",
    "}\n",
    "data['Category'] = data['Category'].replace(translations)"
   ]
  },
  {
   "cell_type": "code",
   "execution_count": 6,
   "id": "e07c4901-2089-49a0-bfbc-31f2569c5e1c",
   "metadata": {},
   "outputs": [],
   "source": [
    "data['Last Updated'] = pd.to_datetime(data['Last Updated'], errors='coerce')\n",
    "data = data.dropna(subset=['Last Updated'])\n",
    "\n",
    "data['Month'] = data['Last Updated'].dt.to_period('M').dt.to_timestamp()\n",
    "monthly = data.groupby(['Month','Category'])['Installs'].sum().reset_index()"
   ]
  },
  {
   "cell_type": "code",
   "execution_count": 7,
   "id": "0912681c-fb20-431e-a161-de43484ebfff",
   "metadata": {},
   "outputs": [],
   "source": [
    "monthly['Installs'] = monthly['Installs'].astype(str).str.replace('+','', regex=False).str.replace(',','', regex=False)\n",
    "monthly['Installs'] = pd.to_numeric(monthly['Installs'], errors='coerce')\n",
    "monthly['Pct_Change'] = monthly.groupby('Category')['Installs'].pct_change()\n",
    "monthly['Highlight'] = monthly['Pct_Change'] > 0.20"
   ]
  },
  {
   "cell_type": "code",
   "execution_count": 8,
   "id": "0dd76b71-85c5-4e51-abc2-524cab1f4146",
   "metadata": {},
   "outputs": [
    {
     "name": "stdout",
     "output_type": "stream",
     "text": [
      " This chart (Number of Updates) is only visible between 6 PM and 9 PM IST.\n"
     ]
    }
   ],
   "source": [
    "if start_time <= current_time <= end_time:\n",
    "    fig6 = px.line(\n",
    "        x=updates_per_year.index,\n",
    "        y=updates_per_year.values,\n",
    "        labels={'x': 'Year', 'y': 'Number of Updates'},\n",
    "        title='Number of Updates Over the Years',\n",
    "        color_discrete_sequence=['#AB63FA'],\n",
    "        width=plot_width,\n",
    "        height=plot_height\n",
    "    )\n",
    "\n",
    "    fig6.update_layout(\n",
    "        plot_bgcolor=plot_bg_color,\n",
    "        paper_bgcolor=plot_bg_color,\n",
    "        font_color=text_color,\n",
    "        title_font=title_font,\n",
    "        xaxis=dict(title_font=axis_font),\n",
    "        yaxis=dict(title_font=axis_font),\n",
    "        margin=dict(l=10, r=10, t=30, b=10)\n",
    "    )\n",
    "\n",
    "    fig6.show()\n",
    "else:\n",
    "    print(\" This chart (Number of Updates) is only visible between 6 PM and 9 PM IST.\")"
   ]
  }
 ],
 "metadata": {
  "kernelspec": {
   "display_name": "Python 3 (ipykernel)",
   "language": "python",
   "name": "python3"
  },
  "language_info": {
   "codemirror_mode": {
    "name": "ipython",
    "version": 3
   },
   "file_extension": ".py",
   "mimetype": "text/x-python",
   "name": "python",
   "nbconvert_exporter": "python",
   "pygments_lexer": "ipython3",
   "version": "3.13.6"
  }
 },
 "nbformat": 4,
 "nbformat_minor": 5
}
