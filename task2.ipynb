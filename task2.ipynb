{
 "cells": [
  {
   "cell_type": "code",
   "execution_count": 1,
   "id": "f6237b00-75d2-40a5-980d-dc353d780163",
   "metadata": {},
   "outputs": [],
   "source": [
    "import pandas as pd\n",
    "import numpy as np\n",
    "import plotly.express as px\n",
    "from datetime import datetime\n",
    "import pytz\n"
   ]
  },
  {
   "cell_type": "code",
   "execution_count": 2,
   "id": "a1d84481-9f94-407b-95d7-876d0d5b9679",
   "metadata": {},
   "outputs": [],
   "source": [
    "# Load the dataset\n",
    "try:\n",
    "    df = pd.read_csv(\"googleplaystore.csv\", encoding=\"utf-8\")\n",
    "except UnicodeDecodeError:\n",
    "    df = pd.read_csv(\"googleplaystore.csv\", encoding=\"latin1\")\n"
   ]
  },
  {
   "cell_type": "code",
   "execution_count": 3,
   "id": "18e4dbe6-7fc7-42ce-905a-2d4de737ba11",
   "metadata": {},
   "outputs": [],
   "source": [
    "# Data Cleaning\n",
    "# Clean Installs column\n",
    "if \"Installs\" in df.columns:\n",
    "    df['Installs'] = df['Installs'].astype(str).str.replace(\"[+,]\", \"\", regex=True)\n",
    "    df['Installs'] = pd.to_numeric(df['Installs'], errors='coerce')\n",
    "\n",
    "# Clean Category column\n",
    "if \"Category\" in df.columns:\n",
    "    df = df.dropna(subset=[\"Category\"])\n"
   ]
  },
  {
   "cell_type": "code",
   "execution_count": 4,
   "id": "bb5e3b25-eb46-49d4-8223-b55accddfdf5",
   "metadata": {},
   "outputs": [],
   "source": [
    "#  Filter Data\n",
    "\n",
    "# Exclude categories starting with A, C, G, S\n",
    "df = df[df['Category'].str.startswith(('A', 'C', 'G', 'S'))]\n",
    "\n",
    "# Keep only installs > 1M\n",
    "df = df[df['Installs'] > 1_000_000]\n",
    "\n",
    "# Group by category and get total installs\n",
    "top_categories = df.groupby(\"Category\")[\"Installs\"].sum().reset_index()\n",
    "top_categories = top_categories.sort_values(by=\"Installs\", ascending=False).head(5)\n"
   ]
  },
  {
   "cell_type": "code",
   "execution_count": 5,
   "id": "f33604ee-9731-4b50-960c-fc44f100e220",
   "metadata": {},
   "outputs": [],
   "source": [
    "#  Assign Countries (Demo Mapping)\n",
    "# Since real country info isn't available, map categories to some countries\n",
    "demo_countries = [\"United States\", \"India\", \"Brazil\", \"United Kingdom\", \"Germany\"]\n",
    "top_categories[\"Country\"] = demo_countries[:len(top_categories)]\n"
   ]
  },
  {
   "cell_type": "code",
   "execution_count": 6,
   "id": "bf116c98-7a11-44de-9abc-0b40b0de4723",
   "metadata": {},
   "outputs": [
    {
     "name": "stdout",
     "output_type": "stream",
     "text": [
      "Choropleth map is only visible between 6 PM and 8 PM IST.\n"
     ]
    }
   ],
   "source": [
    "\n",
    "\n",
    "# Define IST timezone\n",
    "ist = pytz.timezone('Asia/Kolkata')\n",
    "current_time = datetime.now(ist).time()\n",
    "\n",
    "# Time window: 3 PM to 5 PM\n",
    "start_time = time(15, 0)  # 15:00 IST\n",
    "end_time = time(17, 0)    # 17:00 IST\n",
    "\n",
    "if start_time <= current_time <= end_time:\n",
    "    # Reshape data for px.bar (long format)\n",
    "    df_long = main_df.melt(\n",
    "        id_vars='Category',\n",
    "        value_vars=['Rating', 'Reviews'],\n",
    "        var_name='Metric',\n",
    "        value_name='Value'\n",
    "    )\n",
    "\n",
    "    # Category Analysis Plot (fig1 using px but output same as old fig)\n",
    "    fig2 = px.bar(\n",
    "        df_long,\n",
    "        x='Category',\n",
    "        y='Value',\n",
    "        color='Metric',\n",
    "        barmode='group',\n",
    "        title='Top 10 App Categories by Installs (Filtered & Time Restricted)',\n",
    "        width=plot_width,\n",
    "        height=plot_height,\n",
    "        color_discrete_sequence=px.colors.sequential.Plasma\n",
    "    )\n",
    "\n",
    "    fig2.update_layout(\n",
    "        plot_bgcolor=plot_bg_color,\n",
    "        paper_bgcolor=plot_bg_color,\n",
    "        font_color=text_color,\n",
    "        title_font=title_font,\n",
    "        xaxis=dict(title_font=axis_font),\n",
    "        yaxis=dict(title_font=axis_font),\n",
    "        margin=dict(l=10, r=10, t=30, b=10)\n",
    "    )\n",
    "\n",
    "    fig2.update_traces(marker=dict(line=dict(color=text_color, width=1)))\n",
    "\n",
    "    fig2.show()\n",
    "\n",
    "else:\n",
    "    print(\" Chart is hidden. Visible only between 3 PM - 5 PM IST.\")\n"
   ]
  },
  {
   "cell_type": "code",
   "execution_count": null,
   "id": "8eb0afe5-88a5-431b-8839-87676ba5e812",
   "metadata": {},
   "outputs": [],
   "source": []
  }
 ],
 "metadata": {
  "kernelspec": {
   "display_name": "Python 3 (ipykernel)",
   "language": "python",
   "name": "python3"
  },
  "language_info": {
   "codemirror_mode": {
    "name": "ipython",
    "version": 3
   },
   "file_extension": ".py",
   "mimetype": "text/x-python",
   "name": "python",
   "nbconvert_exporter": "python",
   "pygments_lexer": "ipython3",
   "version": "3.13.6"
  }
 },
 "nbformat": 4,
 "nbformat_minor": 5
}
