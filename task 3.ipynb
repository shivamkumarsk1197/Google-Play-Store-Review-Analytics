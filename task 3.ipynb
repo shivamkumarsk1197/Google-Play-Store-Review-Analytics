{
 "cells": [
  {
   "cell_type": "code",
   "execution_count": 1,
   "id": "a90abf67-25d6-427d-b5d5-414a675dcdee",
   "metadata": {},
   "outputs": [],
   "source": [
    "import pandas as pd\n",
    "import numpy as np\n",
    "import plotly.graph_objects as go\n",
    "from datetime import datetime\n",
    "import pytz\n",
    "import plotly.express as px\n"
   ]
  },
  {
   "cell_type": "code",
   "execution_count": 2,
   "id": "6b3270b1-b669-4b7d-aa58-c48f5dc33aa4",
   "metadata": {},
   "outputs": [],
   "source": [
    "df = pd.read_csv(\"googleplaystore.csv\")\n"
   ]
  },
  {
   "cell_type": "code",
   "execution_count": 3,
   "id": "b6f42206-b585-4689-b164-2db124fdee69",
   "metadata": {},
   "outputs": [],
   "source": [
    "df = df.dropna(subset=['Installs', 'Category', 'Type', 'Android Ver', 'Size', 'Content Rating', 'App'])\n",
    "df['Installs'] = df['Installs'].str.replace(r'[+,]', '', regex=True).astype(int)\n",
    "\n",
    "if 'Revenue' not in df.columns:\n",
    "    np.random.seed(42)\n",
    "    df['Revenue'] = df['Installs'] * np.where(df['Type'] == 'Paid', np.random.randint(1, 5), 0.1)\n",
    "\n",
    "df['Size'] = df['Size'].replace('Varies with device', np.nan)\n",
    "df['Size'] = df['Size'].str.replace('M', '', regex=False).str.replace('k', '', regex=False)\n",
    "df['Size'] = pd.to_numeric(df['Size'], errors='coerce')\n"
   ]
  },
  {
   "cell_type": "code",
   "execution_count": 4,
   "id": "39872c35-80be-4f5b-a33b-35f58687c7b1",
   "metadata": {},
   "outputs": [],
   "source": [
    "df = df[\n",
    "    (df['Installs'] >= 10000) &\n",
    "    (df['Revenue'] >= 10000) &\n",
    "    (df['Content Rating'] == 'Everyone') &\n",
    "    (df['Android Ver'].str.extract(r'(\\d+\\.?\\d*)').astype(float) > 4.0).any(axis=1) &\n",
    "    (df['Size'] > 15) &\n",
    "    (df['App'].str.len() <= 30)\n",
    "]\n"
   ]
  },
  {
   "cell_type": "code",
   "execution_count": 5,
   "id": "8c133680-4ce1-4029-866d-e5fb18049b0c",
   "metadata": {},
   "outputs": [],
   "source": [
    "top_categories = df.groupby('Category')['Installs'].sum().nlargest(3).index\n",
    "df = df[df['Category'].isin(top_categories)]\n"
   ]
  },
  {
   "cell_type": "code",
   "execution_count": 6,
   "id": "bcbc1487-f43a-4410-93c3-d23e45c1eee4",
   "metadata": {},
   "outputs": [],
   "source": [
    "summary = df.groupby(['Category', 'Type']).agg(\n",
    "    Avg_Installs=('Installs', 'mean'),\n",
    "    Avg_Revenue=('Revenue', 'mean')\n",
    ").reset_index()\n"
   ]
  },
  {
   "cell_type": "code",
   "execution_count": 7,
   "id": "eaf96c00-778f-4d31-b16a-4ca80fae87b2",
   "metadata": {},
   "outputs": [],
   "source": [
    "ist = pytz.timezone('Asia/Kolkata')\n",
    "current_time = datetime.now(ist).time()\n",
    "start_time = datetime.strptime(\"13:00\", \"%H:%M\").time()\n",
    "end_time = datetime.strptime(\"14:00\", \"%H:%M\").time()\n"
   ]
  },
  {
   "cell_type": "code",
   "execution_count": 8,
   "id": "f512d088-3146-4c3c-8eb8-3e84607a2056",
   "metadata": {},
   "outputs": [
    {
     "name": "stdout",
     "output_type": "stream",
     "text": [
      "The chart is only visible between 1 PM and 2 PM IST.\n"
     ]
    }
   ],
   "source": [
    "\n",
    "if start_time <= current_time <= end_time:\n",
    "    # Bar chart (Average Installs)\n",
    "    fig1 = px.bar(\n",
    "        summary,\n",
    "        x=summary['Category'] + \" (\" + summary['Type'] + \")\",\n",
    "        y=\"Avg_Installs\",\n",
    "        title=\"Average Installs vs Revenue (Free vs Paid Apps)\",\n",
    "        labels={\"y\": \"Average Installs\"}\n",
    "    )\n",
    "\n",
    "    # Line chart (Average Revenue)\n",
    "    fig2 = px.line(\n",
    "        summary,\n",
    "        x=summary['Category'] + \" (\" + summary['Type'] + \")\",\n",
    "        y=\"Avg_Revenue\"\n",
    "    )\n",
    "\n",
    "    # Convert to go traces\n",
    "    fig = go.Figure(data=fig1.data + fig2.data)\n",
    "\n",
    "    # Update axis\n",
    "    fig.update_traces(yaxis=\"y1\", selector=dict(type=\"bar\"))\n",
    "    fig.update_traces(yaxis=\"y2\", selector=dict(type=\"scatter\"))\n",
    "\n",
    "    fig.update_layout(\n",
    "        xaxis=dict(title=\"Category & Type\"),\n",
    "        yaxis=dict(title=\"Average Installs\", side=\"left\"),\n",
    "        yaxis2=dict(title=\"Average Revenue\", side=\"right\", overlaying=\"y\", showgrid=False),\n",
    "        legend=dict(x=0.5, y=1.1, orientation=\"h\")\n",
    "    )\n",
    "\n",
    "    fig.show()\n",
    "else:\n",
    "    print(\"The chart is only visible between 1 PM and 2 PM IST.\")"
   ]
  },
  {
   "cell_type": "code",
   "execution_count": null,
   "id": "0564f0c5-1359-46da-b9c4-1ab7c39a23f7",
   "metadata": {},
   "outputs": [],
   "source": []
  }
 ],
 "metadata": {
  "kernelspec": {
   "display_name": "Python 3 (ipykernel)",
   "language": "python",
   "name": "python3"
  },
  "language_info": {
   "codemirror_mode": {
    "name": "ipython",
    "version": 3
   },
   "file_extension": ".py",
   "mimetype": "text/x-python",
   "name": "python",
   "nbconvert_exporter": "python",
   "pygments_lexer": "ipython3",
   "version": "3.13.6"
  }
 },
 "nbformat": 4,
 "nbformat_minor": 5
}
